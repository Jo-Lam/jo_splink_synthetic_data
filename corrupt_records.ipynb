{
 "cells": [
  {
   "cell_type": "code",
   "execution_count": null,
   "metadata": {},
   "outputs": [],
   "source": [
    "from corrupt.corruption_functions import (country_citizenship_exact_match,\n",
    "country_citizenship_random,\n",
    "dob_exact_match,\n",
    "dob_corrupt_typo,\n",
    "full_name_exact_match,\n",
    "full_name_use_alt_label_if_exists,\n",
    "get_alt_name_lookup,\n",
    "full_name_use_alt_given_names,\n",
    "postcode_lat_lng_exact_match,\n",
    "postcode_lat_lng_alternative)"
   ]
  },
  {
   "cell_type": "markdown",
   "metadata": {},
   "source": [
    "## NEXT:  WE HAVE JUST IMPROVED NAME PARSING TO INCLUDING ANYTHING FROM THE HUMANLABEL OR FROM THE GIVEN NAMES\n",
    "## ADD THIS TO THE MASTER RECORDS, BEFORE RUNNING CORRUPTION AGAIN"
   ]
  },
  {
   "cell_type": "code",
   "execution_count": null,
   "metadata": {},
   "outputs": [],
   "source": [
    "pd.options.display.max_columns = 1000\n"
   ]
  },
  {
   "cell_type": "code",
   "execution_count": null,
   "metadata": {},
   "outputs": [],
   "source": [
    "import pandas as pd \n",
    "df = pd.read_parquet(\"scrape_wikidata/clean_data/master_data\")"
   ]
  },
  {
   "cell_type": "code",
   "execution_count": null,
   "metadata": {},
   "outputs": [],
   "source": [
    "df5 = df.head(5).copy()"
   ]
  },
  {
   "cell_type": "code",
   "execution_count": null,
   "metadata": {},
   "outputs": [],
   "source": [
    "df5"
   ]
  },
  {
   "cell_type": "code",
   "execution_count": null,
   "metadata": {},
   "outputs": [],
   "source": [
    "records = df5.to_dict(orient='records')"
   ]
  },
  {
   "cell_type": "code",
   "execution_count": null,
   "metadata": {},
   "outputs": [],
   "source": [
    "record = records[2]\n",
    "record"
   ]
  },
  {
   "cell_type": "code",
   "execution_count": null,
   "metadata": {},
   "outputs": [],
   "source": [
    "def country_citizenship_exact_match(master_record, corrupted_record={}):\n",
    "    corrupted_record[\"citizenship\"] = master_record[\"country_citizenship\"][0]\n",
    "    if corrupted_record[\"citizenship\"] in (\"United Kingdom\",\"United Kingdom of Great Britain and Ireland\"):\n",
    "        corrupted_record[\"citizenship\"] = \"UK\"\n",
    "        \n",
    "    return corrupted_record\n",
    "\n",
    "\n",
    "def country_citizenship_random(master_record, corrupted_record={}):\n",
    "    corrupted_record[\"citizenship\"] = np.random.choice(master_record[\"country_citizenship\"])\n",
    "    if corrupted_record[\"citizenship\"] in (\"United Kingdom\",\"United Kingdom of Great Britain and Ireland\"):\n",
    "        corrupted_record[\"citizenship\"] = \"UK\"\n",
    "    return corrupted_record\n",
    "\n",
    "r = full_name_use_alt_given_names(record)\n",
    "r2 = postcode_lat_lng_alternative(record, r)\n",
    "r3 = dob_corrupt_typo(record, r2)\n",
    "r4 = country_citizenship_random(record, r3)\n",
    "pd.DataFrame([r3])"
   ]
  },
  {
   "cell_type": "code",
   "execution_count": null,
   "metadata": {},
   "outputs": [],
   "source": [
    "\n",
    "\n"
   ]
  },
  {
   "cell_type": "code",
   "execution_count": null,
   "metadata": {},
   "outputs": [],
   "source": []
  },
  {
   "cell_type": "code",
   "execution_count": null,
   "metadata": {},
   "outputs": [],
   "source": []
  },
  {
   "cell_type": "code",
   "execution_count": null,
   "metadata": {},
   "outputs": [],
   "source": []
  },
  {
   "cell_type": "code",
   "execution_count": null,
   "metadata": {},
   "outputs": [],
   "source": [
    "import numpy as np\n",
    "np.random.choice([1,2,3])"
   ]
  },
  {
   "cell_type": "code",
   "execution_count": null,
   "metadata": {},
   "outputs": [],
   "source": [
    "np.random.choice([1,2,3], 2)"
   ]
  },
  {
   "cell_type": "code",
   "execution_count": null,
   "metadata": {},
   "outputs": [],
   "source": [
    "%load_ext autoreload\n",
    "%autoreload 2\n"
   ]
  },
  {
   "cell_type": "code",
   "execution_count": null,
   "metadata": {},
   "outputs": [],
   "source": [
    "from corrupt.geco_corrupt import CorruptValueNumpad, position_mod_uniform ,CorruptValueQuerty, get_zipf_dist\n",
    "numpad_corruptor = CorruptValueNumpad(position_function = position_mod_uniform,\n",
    "                       row_prob =    0.5,\n",
    "                       col_prob =    0.5)\n",
    "\n",
    "\n",
    "dist = get_zipf_dist(30)\n",
    "np.random.choice(dist['vals'], p=dist['weights'])"
   ]
  },
  {
   "cell_type": "code",
   "execution_count": null,
   "metadata": {},
   "outputs": [],
   "source": [
    "fns = [lambda x: x, lambda y:y]\n",
    "np.random.choice(fns, p=[0.2,0.8])"
   ]
  },
  {
   "cell_type": "code",
   "execution_count": null,
   "metadata": {},
   "outputs": [],
   "source": []
  },
  {
   "cell_type": "code",
   "execution_count": null,
   "metadata": {},
   "outputs": [],
   "source": [
    "from pyspark.context import SparkContext\n",
    "from pyspark.sql import SparkSession\n",
    "sc = SparkContext.getOrCreate()\n",
    "spark = SparkSession(sc)\n",
    "from pyspark.sql import Row\n",
    "\n",
    "\n",
    "allp = spark.read.parquet(\"scrape_wikidata/raw_data/persons\")\n",
    "\n"
   ]
  },
  {
   "cell_type": "code",
   "execution_count": null,
   "metadata": {},
   "outputs": [],
   "source": [
    "allp.filter(\"human = 'http://www.wikidata.org/entity/Q80'\").toPandas()"
   ]
  },
  {
   "cell_type": "code",
   "execution_count": null,
   "metadata": {},
   "outputs": [],
   "source": [
    "allp.limit(10).toPandas()"
   ]
  }
 ],
 "metadata": {
  "kernelspec": {
   "display_name": "Python 3",
   "language": "python",
   "name": "python3"
  },
  "language_info": {
   "codemirror_mode": {
    "name": "ipython",
    "version": 3
   },
   "file_extension": ".py",
   "mimetype": "text/x-python",
   "name": "python",
   "nbconvert_exporter": "python",
   "pygments_lexer": "ipython3",
   "version": "3.8.3"
  }
 },
 "nbformat": 4,
 "nbformat_minor": 4
}
